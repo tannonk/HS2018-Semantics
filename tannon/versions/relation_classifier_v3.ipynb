{
 "cells": [
  {
   "cell_type": "code",
   "execution_count": 1,
   "metadata": {},
   "outputs": [],
   "source": [
    "import gzip\n",
    "import numpy as np\n",
    "import random\n",
    "import os\n",
    "import json\n",
    "\n",
    "from collections import Counter, defaultdict, namedtuple\n",
    "from sklearn.feature_extraction import DictVectorizer\n",
    "from sklearn.linear_model import LogisticRegression\n",
    "from sklearn.metrics import precision_recall_fscore_support, fbeta_score, make_scorer\n",
    "from sklearn.pipeline import make_pipeline\n",
    "from sklearn.model_selection import cross_val_score, StratifiedKFold, KFold\n",
    "from sklearn.preprocessing import FunctionTransformer,LabelEncoder\n",
    "import numpy as np\n",
    "\n",
    "#### additional imports\n",
    "from sklearn.feature_extraction.text import CountVectorizer\n",
    "# import spacy\n",
    "# nlp = spacy.load('en')"
   ]
  },
  {
   "cell_type": "code",
   "execution_count": 2,
   "metadata": {},
   "outputs": [],
   "source": [
    "############################################################################################\n",
    "# 1. LOAD DATA\n",
    "############################################################################################\n",
    "\n",
    "PairExample = namedtuple('PairExample',\n",
    "    'entity_1, entity_2, snippet')\n",
    "Snippet = namedtuple('Snippet',\n",
    "    'left, mention_1, middle, mention_2, right, direction')\n",
    "def load_data(file, verbose=True):\n",
    "    f = open(file,'r', encoding='utf-8')\n",
    "    data = []\n",
    "    labels = []\n",
    "    for i,line in enumerate(f):\n",
    "        instance = json.loads(line)\n",
    "        if i==0:\n",
    "            if verbose:\n",
    "                print('json example:')\n",
    "                print(instance)\n",
    "        #'relation, entity_1, entity_2, snippet' fileds for each example\n",
    "        #'left, mention_1, middle, mention_2, right, direction' for each snippet\n",
    "        instance_tuple = PairExample(instance['entity_1'],instance['entity_2'],[])\n",
    "        for snippet in instance['snippet']:\n",
    "            try:\n",
    "                snippet_tuple = Snippet(snippet['left'],snippet['mention_1'],\n",
    "                                        snippet['middle'], \n",
    "                                        snippet['mention_2'],snippet['right'],\n",
    "                                        snippet['direction'])\n",
    "                instance_tuple.snippet.append(snippet_tuple)\n",
    "            except:\n",
    "                print(instance)\n",
    "        if i==0:\n",
    "            if verbose:\n",
    "                print('\\nexample transformed as a named tuple:')\n",
    "                print(instance_tuple)\n",
    "        data.append(instance_tuple)\n",
    "        labels.append(instance['relation'])\n",
    "    return data,labels\n",
    "    \n",
    "train_data, train_labels = load_data('train.json.txt', verbose=False)"
   ]
  },
  {
   "cell_type": "code",
   "execution_count": 3,
   "metadata": {},
   "outputs": [
    {
     "name": "stdout",
     "output_type": "stream",
     "text": [
      "PairExample(entity_1='Judy_Garland', entity_2='David_Rose', snippet=[Snippet(left='thirty and his life and career were riding high . In 1941 , shortly after the death of his father , Mercer began an intense affair with nineteen-year-old', mention_1='Judy Garland', middle='while she was engaged to composer', mention_2='David Rose', right='. Garland married Rose to temporarily stop the affair , but the effect on Mercer lingered , adding to the emotional depth of his lyrics . Their affair', direction='fwd')])\n",
      "9660\n"
     ]
    }
   ],
   "source": [
    "print(train_data[0])\n",
    "print(len(train_data))"
   ]
  },
  {
   "cell_type": "code",
   "execution_count": 4,
   "metadata": {},
   "outputs": [],
   "source": [
    "def rebuild_corpus(data):\n",
    "    \"\"\"reconstruct training data with placeholders to build vocabulary\"\"\"\n",
    "    corpus = []\n",
    "\n",
    "    for ex in data:\n",
    "        s = ex.snippet[0]\n",
    "        corpus.append(\n",
    "            ' '.join((s.left, 'ENTITY_1', s.middle, 'ENTITY_2', s.right))\n",
    "        )\n",
    "\n",
    "    return corpus\n"
   ]
  },
  {
   "cell_type": "code",
   "execution_count": 5,
   "metadata": {},
   "outputs": [
    {
     "name": "stdout",
     "output_type": "stream",
     "text": [
      "thirty and his life and career were riding high . In 1941 , shortly after the death of his father , Mercer began an intense affair with nineteen-year-old ENTITY_1 while she was engaged to composer ENTITY_2 . Garland married Rose to temporarily stop the affair , but the effect on Mercer lingered , adding to the emotional depth of his lyrics . Their affair\n",
      "9660\n"
     ]
    }
   ],
   "source": [
    "corpus = rebuild_corpus(train_data)\n",
    "    \n",
    "print(corpus[0])\n",
    "print(len(corpus))  "
   ]
  },
  {
   "cell_type": "code",
   "execution_count": null,
   "metadata": {},
   "outputs": [],
   "source": []
  },
  {
   "cell_type": "code",
   "execution_count": 6,
   "metadata": {},
   "outputs": [],
   "source": [
    "# def context_windows(data):\n",
    "#     train_data_windows = []\n",
    "#     for ex in train_data:\n",
    "#         ex_windows = []\n",
    "#         ex_windows.append(ex.snippet[0].left)\n",
    "#         ex_windows.append(ex.snippet[0].middle)\n",
    "#         ex_windows.append(ex.snippet[0].right)\n",
    "#         train_data_windows.append(ex_windows)\n",
    "#         del ex_windows\n",
    "        \n",
    "#     return train_data_windows"
   ]
  },
  {
   "cell_type": "code",
   "execution_count": 7,
   "metadata": {},
   "outputs": [],
   "source": [
    "# contexts = context_windows(train_data)"
   ]
  },
  {
   "cell_type": "code",
   "execution_count": 8,
   "metadata": {},
   "outputs": [],
   "source": [
    "# print(contexts[0])\n",
    "# print(contexts[-1])"
   ]
  },
  {
   "cell_type": "code",
   "execution_count": 9,
   "metadata": {},
   "outputs": [],
   "source": [
    "# https://www.youtube.com/watch?v=aCdg-d_476Y\n",
    "vectorizer = CountVectorizer()\n",
    "BOW = vectorizer.fit_transform(corpus)\n"
   ]
  },
  {
   "cell_type": "code",
   "execution_count": 10,
   "metadata": {},
   "outputs": [
    {
     "name": "stdout",
     "output_type": "stream",
     "text": [
      "ID for word thirty: 37523\n",
      "length of vocab: 41671\n",
      "<class 'scipy.sparse.csr.csr_matrix'>\n",
      "<class 'numpy.ndarray'>\n",
      "(1, 41671)\n",
      "(1, 41671)\n",
      "(9660, 41671)\n"
     ]
    }
   ],
   "source": [
    "# print(vectorizer)\n",
    "\n",
    "print(\"ID for word thirty:\", vectorizer.vocabulary_.get(\"thirty\"))\n",
    "# print(BOW[0])\n",
    "\n",
    "print(\"length of vocab:\", len(vectorizer.vocabulary_))\n",
    "\n",
    "# print(vectorizer.vocabulary_.get(\"affair\"))\n",
    "# print(vectorizer.get_feature_names())\n",
    "print(type(BOW))\n",
    "print(type(BOW[0].toarray()))\n",
    "print(BOW[0].shape)\n",
    "print(BOW[1].shape)\n",
    "print(BOW.shape)"
   ]
  },
  {
   "cell_type": "code",
   "execution_count": 11,
   "metadata": {},
   "outputs": [],
   "source": [
    "# def build_BOW_features(train_data, vectorizer):\n",
    "#     train_data_vectors = []\n",
    "#     for text in train_data:\n",
    "#         left = vectorizer.transform(text.snippet[0].left.split())\n",
    "#         mid = vectorizer.transform(text.snippet[0].middle.split())\n",
    "#         right = vectorizer.transform(text.snippet[0].right.split())\n",
    "#         train_data_vectors.append((left, mid, right))\n",
    "#     return train_data_vectors\n",
    "\n",
    "# train_data_featurized = build_BOW_features(train_data, vectorizer)"
   ]
  },
  {
   "cell_type": "code",
   "execution_count": 12,
   "metadata": {},
   "outputs": [],
   "source": [
    "# print(train_data_featurized[0][0].shape)\n",
    "# print(train_data_featurized[0][1].shape)\n",
    "# print(train_data_featurized[0][2].shape)\n",
    "\n",
    "# print(train_data_featurized[1][0].shape)\n",
    "# print(train_data_featurized[1][1].shape)\n",
    "# print(train_data_featurized[1][2].shape)"
   ]
  },
  {
   "cell_type": "code",
   "execution_count": 13,
   "metadata": {},
   "outputs": [],
   "source": [
    "train_data_featurized = BOW\n",
    "\n",
    "# Transform labels to nimeric values\n",
    "le = LabelEncoder()\n",
    "train_labels_featurized = le.fit_transform(train_labels)"
   ]
  },
  {
   "cell_type": "code",
   "execution_count": 14,
   "metadata": {},
   "outputs": [
    {
     "name": "stdout",
     "output_type": "stream",
     "text": [
      "<class 'numpy.ndarray'>\n",
      "(9660, 41671) (9660,)\n"
     ]
    }
   ],
   "source": [
    "print(type(train_labels_featurized))\n",
    "print(train_data_featurized.shape, train_labels_featurized.shape)"
   ]
  },
  {
   "cell_type": "code",
   "execution_count": 15,
   "metadata": {},
   "outputs": [
    {
     "data": {
      "text/plain": [
       "LogisticRegression(C=1.0, class_weight=None, dual=False, fit_intercept=True,\n",
       "          intercept_scaling=1, max_iter=100, multi_class='ovr', n_jobs=1,\n",
       "          penalty='l2', random_state=None, solver='liblinear', tol=0.0001,\n",
       "          verbose=0, warm_start=False)"
      ]
     },
     "execution_count": 15,
     "metadata": {},
     "output_type": "execute_result"
    }
   ],
   "source": [
    "lr = LogisticRegression()\n",
    "lr.fit(train_data_featurized, train_labels_featurized)"
   ]
  },
  {
   "cell_type": "code",
   "execution_count": 16,
   "metadata": {},
   "outputs": [
    {
     "name": "stdout",
     "output_type": "stream",
     "text": [
      "1840\n",
      "Geronimo Mercuriali and Giovanni Battista Morgagni . Ronchi dei Legionari ( Gorizia ) ( 2011-present ) is a comune ( municipality ) in the Province of Gorizia in the Italian region ENTITY_1 , located about 30 km northwest of ENTITY_2 and about 14 km southwest of Gorizia . Follow Us on Twitter ! Categories Events Multimedia Neural network Operating system Weather Wii Tag Cloud 3d 2008/09 Aircraft\n",
      "(1840, 41671)\n"
     ]
    }
   ],
   "source": [
    "#########################################################################################\n",
    "# 4. TEST PREDICTIONS and ANALYSIS\n",
    "#########################################################################################\n",
    "\n",
    "# Predict on test set\n",
    "test_data, test_labels = load_data('test-covered.json.txt', verbose=False)\n",
    "test_corpus = rebuild_corpus(test_data)\n",
    "print(len(test_corpus))\n",
    "print(test_corpus[0])\n",
    "\n",
    "test_corpus_featurized = vectorizer.transform(test_corpus)\n",
    "print(test_corpus_featurized.shape)\n",
    "\n",
    "test_label_predicted = lr.predict(test_corpus_featurized)"
   ]
  },
  {
   "cell_type": "code",
   "execution_count": 1,
   "metadata": {},
   "outputs": [
    {
     "ename": "NameError",
     "evalue": "name 'test_label_predicted' is not defined",
     "output_type": "error",
     "traceback": [
      "\u001b[0;31m---------------------------------------------------------------------------\u001b[0m",
      "\u001b[0;31mNameError\u001b[0m                                 Traceback (most recent call last)",
      "\u001b[0;32m<ipython-input-1-849da081496b>\u001b[0m in \u001b[0;36m<module>\u001b[0;34m\u001b[0m\n\u001b[0;32m----> 1\u001b[0;31m \u001b[0mprint\u001b[0m\u001b[0;34m(\u001b[0m\u001b[0mtest_label_predicted\u001b[0m\u001b[0;34m)\u001b[0m\u001b[0;34m\u001b[0m\u001b[0m\n\u001b[0m\u001b[1;32m      2\u001b[0m \u001b[0;31m# # Deprecation warning explained: https://stackoverflow.com/questions/49545947/sklearn-deprecationwarning-truth-value-of-an-array\u001b[0m\u001b[0;34m\u001b[0m\u001b[0;34m\u001b[0m\u001b[0m\n\u001b[1;32m      3\u001b[0m \u001b[0mtest_label_predicted_decoded\u001b[0m \u001b[0;34m=\u001b[0m \u001b[0mle\u001b[0m\u001b[0;34m.\u001b[0m\u001b[0minverse_transform\u001b[0m\u001b[0;34m(\u001b[0m\u001b[0mtest_label_predicted\u001b[0m\u001b[0;34m)\u001b[0m\u001b[0;34m\u001b[0m\u001b[0m\n\u001b[1;32m      4\u001b[0m \u001b[0mprint\u001b[0m\u001b[0;34m(\u001b[0m\u001b[0mtest_label_predicted_decoded\u001b[0m\u001b[0;34m[\u001b[0m\u001b[0;34m:\u001b[0m\u001b[0;36m10\u001b[0m\u001b[0;34m]\u001b[0m\u001b[0;34m)\u001b[0m\u001b[0;34m\u001b[0m\u001b[0m\n\u001b[1;32m      5\u001b[0m \u001b[0mf\u001b[0m \u001b[0;34m=\u001b[0m \u001b[0mopen\u001b[0m\u001b[0;34m(\u001b[0m\u001b[0;34m\"test_labels.txt\"\u001b[0m\u001b[0;34m,\u001b[0m \u001b[0;34m'w'\u001b[0m\u001b[0;34m,\u001b[0m \u001b[0mencoding\u001b[0m\u001b[0;34m=\u001b[0m\u001b[0;34m\"utf-8\"\u001b[0m\u001b[0;34m)\u001b[0m\u001b[0;34m\u001b[0m\u001b[0m\n",
      "\u001b[0;31mNameError\u001b[0m: name 'test_label_predicted' is not defined"
     ]
    }
   ],
   "source": [
    "print(test_label_predicted)\n",
    "# # Deprecation warning explained: https://stackoverflow.com/questions/49545947/sklearn-deprecationwarning-truth-value-of-an-array\n",
    "test_label_predicted_decoded = le.inverse_transform(test_label_predicted)\n",
    "print(test_label_predicted_decoded[:10])\n",
    "f = open(\"test_labels.txt\", 'w', encoding=\"utf-8\")\n",
    "for label in test_label_predicted_decoded:\n",
    "    f.write(label+'\\n')"
   ]
  },
  {
   "cell_type": "code",
   "execution_count": null,
   "metadata": {},
   "outputs": [],
   "source": []
  }
 ],
 "metadata": {
  "kernelspec": {
   "display_name": "Python 3",
   "language": "python",
   "name": "python3"
  },
  "language_info": {
   "codemirror_mode": {
    "name": "ipython",
    "version": 3
   },
   "file_extension": ".py",
   "mimetype": "text/x-python",
   "name": "python",
   "nbconvert_exporter": "python",
   "pygments_lexer": "ipython3",
   "version": "3.6.0"
  }
 },
 "nbformat": 4,
 "nbformat_minor": 2
}
